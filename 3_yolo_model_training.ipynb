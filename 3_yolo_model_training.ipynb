{
 "cells": [
  {
   "cell_type": "markdown",
   "metadata": {
    "id": "y_ohotn_qybF"
   },
   "source": [
    "\n",
    "# **Instructions**:\n",
    "\n",
    "### 1 - Upload this notebook on [Google Colab](https://colab.research.google.com/) (this notebook need to run on Google Colab).\n",
    "### 2 - Open the notebook on Google Colab.\n",
    "### 3 - Change the Google Colab runtime to \"GPU\" by navigating to \"Runtime\" > \"Change runtime type\"\n",
    "### 4 - Run all cells to start training your model.\n",
    "### 5 - After the last command finish its execution, copy the file ```yolov4-tiny/training/yolov4-tiny-custom_last.weights``` from your google drive to the cloned project in the same folder as the 4_yolo_opencv_detector notebook.\n"
   ]
  },
  {
   "cell_type": "code",
   "execution_count": 34,
   "metadata": {
    "id": "sLELVfEKDnI_"
   },
   "outputs": [
    {
     "name": "stderr",
     "output_type": "stream",
     "text": [
      "fatal: destination path 'darknet' already exists and is not an empty directory.\n"
     ]
    }
   ],
   "source": [
    "!git clone https://github.com/AlexeyAB/darknet"
   ]
  },
  {
   "cell_type": "code",
   "execution_count": 2,
   "metadata": {
    "id": "UcHcVVfHRqx5"
   },
   "outputs": [
    {
     "name": "stderr",
     "output_type": "stream",
     "text": [
      "C:\\Users\\Joshua\\AppData\\Roaming\\Python\\Python312\\site-packages\\IPython\\core\\magics\\osm.py:417: UserWarning: This is now an optional IPython functionality, setting dhist requires you to install the `pickleshare` library.\n",
      "  self.shell.db['dhist'] = compress_dhist(dhist)[-100:]\n"
     ]
    },
    {
     "name": "stdout",
     "output_type": "stream",
     "text": [
      "C:\\Users\\Joshua\\Desktop\\python_ai\\yolo\n"
     ]
    },
    {
     "ename": "ModuleNotFoundError",
     "evalue": "No module named 'google'",
     "output_type": "error",
     "traceback": [
      "\u001b[1;31m---------------------------------------------------------------------------\u001b[0m",
      "\u001b[1;31mModuleNotFoundError\u001b[0m                       Traceback (most recent call last)",
      "Cell \u001b[1;32mIn[2], line 2\u001b[0m\n\u001b[0;32m      1\u001b[0m get_ipython()\u001b[38;5;241m.\u001b[39mrun_line_magic(\u001b[38;5;124m'\u001b[39m\u001b[38;5;124mcd\u001b[39m\u001b[38;5;124m'\u001b[39m, \u001b[38;5;124m'\u001b[39m\u001b[38;5;124m..\u001b[39m\u001b[38;5;124m'\u001b[39m)\n\u001b[1;32m----> 2\u001b[0m \u001b[38;5;28;01mfrom\u001b[39;00m \u001b[38;5;21;01mgoogle\u001b[39;00m\u001b[38;5;21;01m.\u001b[39;00m\u001b[38;5;21;01mcolab\u001b[39;00m \u001b[38;5;28;01mimport\u001b[39;00m drive\n\u001b[0;32m      3\u001b[0m drive\u001b[38;5;241m.\u001b[39mmount(\u001b[38;5;124m'\u001b[39m\u001b[38;5;124m/content/gdrive\u001b[39m\u001b[38;5;124m'\u001b[39m)\n\u001b[0;32m      5\u001b[0m get_ipython()\u001b[38;5;241m.\u001b[39msystem(\u001b[38;5;124m'\u001b[39m\u001b[38;5;124mln -s /content/gdrive/My\u001b[39m\u001b[38;5;130;01m\\\\\u001b[39;00m\u001b[38;5;124m Drive/ /mydrive\u001b[39m\u001b[38;5;124m'\u001b[39m)\n",
      "\u001b[1;31mModuleNotFoundError\u001b[0m: No module named 'google'"
     ]
    }
   ],
   "source": [
    "%cd ..\n",
    "from google.colab import drive\n",
    "drive.mount('/content/gdrive')\n",
    "\n",
    "!ln -s /content/gdrive/My\\ Drive/ /mydrive"
   ]
  },
  {
   "cell_type": "code",
   "execution_count": null,
   "metadata": {
    "id": "fHdLgyNRqP1X"
   },
   "outputs": [],
   "source": [
    "!ls /mydrive/yolov4-tiny"
   ]
  },
  {
   "cell_type": "code",
   "execution_count": null,
   "metadata": {
    "id": "vRx_2ufLYKzq"
   },
   "outputs": [],
   "source": [
    "%cd /content/darknet/\n",
    "!sed -i 's/OPENCV=0/OPENCV=1/' Makefile\n",
    "!sed -i 's/GPU=0/GPU=1/' Makefile\n",
    "!sed -i 's/CUDNN=0/CUDNN=1/' Makefile\n",
    "!sed -i 's/CUDNN_HALF=0/CUDNN_HALF=1/' Makefile\n",
    "!sed -i 's/LIBSO=0/LIBSO=1/' Makefile"
   ]
  },
  {
   "cell_type": "code",
   "execution_count": null,
   "metadata": {
    "id": "YgWuHt3GK3Gz"
   },
   "outputs": [],
   "source": [
    "!make"
   ]
  },
  {
   "cell_type": "code",
   "execution_count": null,
   "metadata": {
    "id": "PJ12EpatuOdw"
   },
   "outputs": [],
   "source": [
    "%cd data/\n",
    "!find -maxdepth 1 -type f -exec rm -rf {} \\;\n",
    "%cd ..\n",
    "\n",
    "%rm -rf cfg/\n",
    "%mkdir cfg"
   ]
  },
  {
   "cell_type": "code",
   "execution_count": null,
   "metadata": {
    "id": "eUeBO88DuSdj"
   },
   "outputs": [],
   "source": [
    "!cp /mydrive/yolov4-tiny/obj.zip ../\n",
    "!unzip ../obj.zip -d data/\n",
    "\n",
    "!cp /mydrive/yolov4-tiny/yolov4-tiny-custom.cfg ./cfg\n",
    "!cp /mydrive/yolov4-tiny/obj.names ./data\n",
    "!cp /mydrive/yolov4-tiny/obj.data  ./data\n",
    "!cp /mydrive/yolov4-tiny/process.py ./\n",
    "!cp /mydrive/yolov4-tiny/yolov4-tiny.conv.29 ./"
   ]
  },
  {
   "cell_type": "code",
   "execution_count": null,
   "metadata": {
    "id": "N8JDSBpwusXn"
   },
   "outputs": [],
   "source": [
    "!python process.py"
   ]
  },
  {
   "cell_type": "code",
   "execution_count": null,
   "metadata": {
    "id": "omzY915VqWS8"
   },
   "outputs": [],
   "source": [
    "!ls data/"
   ]
  },
  {
   "cell_type": "code",
   "execution_count": null,
   "metadata": {
    "id": "iblRcnnSu1Uq"
   },
   "outputs": [],
   "source": [
    "!./darknet detector train data/obj.data cfg/yolov4-tiny-custom.cfg yolov4-tiny.conv.29 -dont_show"
   ]
  },
  {
   "cell_type": "code",
   "execution_count": 1,
   "metadata": {},
   "outputs": [],
   "source": [
    "# MY CODE FOR RUNNING ON MY PC\n",
    "# Navigate to your local directory\n",
    "import os\n",
    "from pathlib import Path\n",
    "\n",
    "# Set the correct path to your local darknet folder\n",
    "os.chdir(Path(\"C:/Users/Joshua/Desktop/python_ai/yolo/yolo-opencv-detector-main/darknet\"))"
   ]
  },
  {
   "cell_type": "code",
   "execution_count": 2,
   "metadata": {},
   "outputs": [
    {
     "name": "stdout",
     "output_type": "stream",
     "text": [
      "Makefile modified successfully!\n"
     ]
    }
   ],
   "source": [
    "# Modify the Makefile to enable OpenCV, GPU, and other settings\n",
    "# Python script to modify the Makefile\n",
    "\n",
    "makefile_path = \"C:/Users/Joshua/Desktop/python_ai/yolo/yolo-opencv-detector-main/darknet/Makefile\"\n",
    "\n",
    "# Read the content of the Makefile\n",
    "with open(makefile_path, 'r') as file:\n",
    "    makefile_content = file.readlines()\n",
    "\n",
    "# Modify the relevant lines\n",
    "with open(makefile_path, 'w') as file:\n",
    "    for line in makefile_content:\n",
    "        line = line.replace('OPENCV=0', 'OPENCV=1')\n",
    "        line = line.replace('GPU=0', 'GPU=1')\n",
    "        line = line.replace('CUDNN=0', 'CUDNN=1')\n",
    "        line = line.replace('CUDNN_HALF=0', 'CUDNN_HALF=1')\n",
    "        line = line.replace('LIBSO=0', 'LIBSO=1')\n",
    "        file.write(line)\n",
    "\n",
    "print(\"Makefile modified successfully!\")"
   ]
  },
  {
   "cell_type": "code",
   "execution_count": 3,
   "metadata": {},
   "outputs": [
    {
     "name": "stdout",
     "output_type": "stream",
     "text": [
      "['labels', 'obj', 'obj.data', 'obj.names', 'test.txt', 'train.txt']\n"
     ]
    }
   ],
   "source": [
    "import os\n",
    "import shutil\n",
    "\n",
    "# Navigate to the 'data' directory\n",
    "os.chdir('data')\n",
    "\n",
    "# Clean up the existing files in the 'data' directory\n",
    "for filename in os.listdir():\n",
    "    file_path = os.path.join(os.getcwd(), filename)\n",
    "    if os.path.isfile(file_path):\n",
    "        os.remove(file_path)\n",
    "\n",
    "# Go back to the previous directory\n",
    "os.chdir('..')\n",
    "\n",
    "# Remove old config folder and create a new one\n",
    "if os.path.exists('cfg'):\n",
    "    shutil.rmtree('cfg')  # Remove the folder and its contents\n",
    "os.mkdir('cfg')  # Create a new 'cfg' folder\n",
    "\n",
    "# Path to the original config file\n",
    "cfg_file_path = \"C:/Users/Joshua/Desktop/python_ai/yolo/yolo-opencv-detector-main/yolov4-tiny/yolov4-tiny-custom.cfg\"\n",
    "\n",
    "# Read the config file\n",
    "with open(cfg_file_path, 'r') as file:\n",
    "    cfg_content = file.read()\n",
    "\n",
    "# Replace the backup path\n",
    "cfg_content = cfg_content.replace(\"/mydrive/yolov4-tiny/training/\", \"C:/Users/Joshua/Desktop/python_ai/yolo/yolov4-tiny/training/\")\n",
    "\n",
    "# Write the modified content to a new config file\n",
    "with open('./cfg/yolov4-tiny-custom.cfg', 'w') as file:\n",
    "    file.write(cfg_content)\n",
    "\n",
    "# Unzip the obj.zip file (replace with the actual local path to your files)\n",
    "obj_zip_path = \"C:/Users/Joshua/Desktop/python_ai/yolo/yolo-opencv-detector-main/yolov4-tiny/obj.zip\"\n",
    "shutil.unpack_archive(obj_zip_path, 'data')\n",
    "\n",
    "# Copy configuration files to the 'cfg' and 'data' directories (update paths to match your local setup)\n",
    "shutil.copy(\"C:/Users/Joshua/Desktop/python_ai/yolo/yolo-opencv-detector-main/yolov4-tiny/yolov4-tiny-custom.cfg\", \"./cfg\")\n",
    "shutil.copy(\"C:/Users/Joshua/Desktop/python_ai/yolo/yolo-opencv-detector-main/yolov4-tiny/obj.names\", \"./data\")\n",
    "shutil.copy(\"C:/Users/Joshua/Desktop/python_ai/yolo/yolo-opencv-detector-main/yolov4-tiny/obj.data\", \"./data\")\n",
    "shutil.copy(\"C:/Users/Joshua/Desktop/python_ai/yolo/yolo-opencv-detector-main/yolov4-tiny/process.py\", \"./\")\n",
    "shutil.copy(\"C:/Users/Joshua/Desktop/python_ai/yolo/yolo-opencv-detector-main/yolov4-tiny/yolov4-tiny.conv.29\", \"./\")\n",
    "\n",
    "# Run the Python script\n",
    "os.system('python process.py')\n",
    "\n",
    "# List the contents of the 'data' directory\n",
    "print(os.listdir('data'))"
   ]
  },
  {
   "cell_type": "code",
   "execution_count": 4,
   "metadata": {},
   "outputs": [
    {
     "name": "stdout",
     "output_type": "stream",
     "text": [
      "C:\\Users\\Joshua\\Desktop\\python_ai\\yolo\\yolo-opencv-detector-main\\darknet\n"
     ]
    }
   ],
   "source": [
    "# Run the Python script\n",
    "!python process.py"
   ]
  },
  {
   "cell_type": "code",
   "execution_count": 5,
   "metadata": {},
   "outputs": [
    {
     "name": "stdout",
     "output_type": "stream",
     "text": [
      "['labels', 'obj', 'obj.data', 'obj.names', 'test.txt', 'train.txt']\n"
     ]
    }
   ],
   "source": [
    "# List the contents of the 'data' directory\n",
    "print(os.listdir('data'))"
   ]
  },
  {
   "cell_type": "code",
   "execution_count": 6,
   "metadata": {},
   "outputs": [
    {
     "data": {
      "text/plain": [
       "0"
      ]
     },
     "execution_count": 6,
     "metadata": {},
     "output_type": "execute_result"
    }
   ],
   "source": [
    "# Train YOLOv4-tiny with your custom data\n",
    "os.system(\"darknet.exe detector train data/obj.data cfg/yolov4-tiny-custom.cfg yolov4-tiny.conv.29 -dont_show\")\n",
    "#os.system(\"darknet.exe detector train data/obj.data cfg/yolov4-tiny-custom.cfg yolov4-tiny.conv.29 -dont_show -map -weights C:/Users/Joshua/Desktop/python_ai/yolo/yolo-opencv-detector-main/yolov4-tiny\")"
   ]
  },
  {
   "cell_type": "code",
   "execution_count": null,
   "metadata": {},
   "outputs": [],
   "source": []
  },
  {
   "cell_type": "code",
   "execution_count": null,
   "metadata": {},
   "outputs": [],
   "source": []
  }
 ],
 "metadata": {
  "accelerator": "GPU",
  "colab": {
   "gpuType": "T4",
   "provenance": []
  },
  "kernelspec": {
   "display_name": "Python 3 (ipykernel)",
   "language": "python",
   "name": "python3"
  },
  "language_info": {
   "codemirror_mode": {
    "name": "ipython",
    "version": 3
   },
   "file_extension": ".py",
   "mimetype": "text/x-python",
   "name": "python",
   "nbconvert_exporter": "python",
   "pygments_lexer": "ipython3",
   "version": "3.12.3"
  }
 },
 "nbformat": 4,
 "nbformat_minor": 4
}
